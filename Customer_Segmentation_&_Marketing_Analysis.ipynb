{
  "cells": [
    {
      "cell_type": "code",
      "source": [
        "import pandas as pd\n",
        "import numpy as np\n",
        "from datetime import datetime\n",
        "\n",
        "# Load the data\n",
        "df = pd.read_csv('Winery_Data.csv')\n",
        "\n",
        "# Clean data\n",
        "df = df.dropna(subset=['Customer ID', 'Sale Amount', 'Year Acquired'])"
      ],
      "metadata": {
        "id": "BUKsxDcLcZvv",
        "colab": {
          "base_uri": "https://localhost:8080/"
        },
        "outputId": "a3435ab8-3780-4c54-a8f3-c9377d1150ff"
      },
      "execution_count": 2,
      "outputs": [
        {
          "output_type": "stream",
          "name": "stderr",
          "text": [
            "<ipython-input-2-a685f331df82>:6: DtypeWarning: Columns (22) have mixed types. Specify dtype option on import or set low_memory=False.\n",
            "  df = pd.read_csv('Winery_Data.csv')\n"
          ]
        }
      ]
    },
    {
      "cell_type": "markdown",
      "source": [
        "# CLV Analysis"
      ],
      "metadata": {
        "id": "qf1Yx5pocj6D"
      }
    },
    {
      "cell_type": "code",
      "source": [
        "# Convert date column to datetime\n",
        "df['Date'] = pd.to_datetime(df['Date'], format='%d-%b-%y', errors='coerce')\n",
        "\n",
        "# Get current year from the most recent transaction\n",
        "current_year = df['Date'].max().year\n",
        "\n",
        "# Calculate customer tenure in years\n",
        "df['Tenure'] = current_year - df['Year Acquired']\n",
        "\n",
        "# Ensure tenure is at least 1 year\n",
        "df['Tenure'] = df['Tenure'].clip(lower=1)\n",
        "\n",
        "# Group by customer\n",
        "customer_data = df.groupby('Customer ID').agg({\n",
        "    'Sale Amount': 'sum',\n",
        "    'Order ID': 'count',\n",
        "    'Tenure': 'max',\n",
        "    'Year Acquired': 'min'\n",
        "})\n",
        "\n",
        "# Rename columns\n",
        "customer_data.columns = ['Total_Sales', 'Total_Orders', 'Tenure', 'Acquisition_Year']\n",
        "\n",
        "# Calculate average annual sales (simple CLV)\n",
        "customer_data['Annual_Sales'] = customer_data['Total_Sales'] / customer_data['Tenure']\n",
        "\n",
        "# Calculate average order value\n",
        "customer_data['Avg_Order_Value'] = customer_data['Total_Sales'] / customer_data['Total_Orders']\n",
        "\n",
        "# Calculate purchase frequency (orders per year)\n",
        "customer_data['Purchase_Frequency'] = customer_data['Total_Orders'] / customer_data['Tenure']\n",
        "\n",
        "# Basic CLV calculation (5-year projection)\n",
        "discount_rate = 0.1  # 10% discount rate\n",
        "projection_years = 5\n",
        "\n",
        "# Projected CLV using simple formula: Annual_Sales * (1 - (1 + discount_rate)^(-projection_years)) / discount_rate\n",
        "customer_data['5Y_CLV'] = customer_data['Annual_Sales'] * (1 - (1 + discount_rate)**(-projection_years)) / discount_rate\n",
        "\n",
        "# Create CLV segments\n",
        "customer_data['CLV_Segment'] = pd.qcut(customer_data['5Y_CLV'], 5,\n",
        "                                       labels=['Low Value', 'Below Average', 'Average',\n",
        "                                              'Above Average', 'High Value'])\n",
        "\n",
        "# Display CLV segment distribution\n",
        "clv_segments = customer_data['CLV_Segment'].value_counts()\n",
        "print(clv_segments)\n",
        "\n",
        "# Export CLV analysis\n",
        "customer_data.to_csv('winery_clv_analysis.csv')"
      ],
      "metadata": {
        "id": "-bU8hvCyEaPY",
        "outputId": "26f11bbc-fb57-40a8-aa9f-f5f8a10a121d",
        "colab": {
          "base_uri": "https://localhost:8080/"
        }
      },
      "execution_count": 4,
      "outputs": [
        {
          "output_type": "stream",
          "name": "stdout",
          "text": [
            "CLV_Segment\n",
            "Average          4513\n",
            "Low Value        4495\n",
            "High Value       4433\n",
            "Below Average    4380\n",
            "Above Average    4365\n",
            "Name: count, dtype: int64\n"
          ]
        }
      ]
    },
    {
      "cell_type": "markdown",
      "source": [
        "# Purchase Behaviour Analysis"
      ],
      "metadata": {
        "id": "WmjJJMn1cxY9"
      }
    },
    {
      "cell_type": "code",
      "source": [
        "# Create a customer-level dataset with year-by-year sales\n",
        "customer_behavior = df.groupby('Customer ID').agg({\n",
        "    'Sales 2008': 'sum',\n",
        "    'Sales 2009': 'sum',\n",
        "    'Sales 2010': 'sum',\n",
        "    'Sale Amount': 'sum',\n",
        "    ' Orders 2008 ': 'sum',\n",
        "    'Orders 2009': 'sum',\n",
        "    'Orders 2010': 'sum'\n",
        "})\n",
        "\n",
        "# Calculate year-over-year growth rates\n",
        "customer_behavior['Growth_2008_2009'] = ((customer_behavior['Sales 2009'] - customer_behavior['Sales 2008']) /\n",
        "                                         customer_behavior['Sales 2008'].replace(0, np.nan)) * 100\n",
        "customer_behavior['Growth_2009_2010'] = ((customer_behavior['Sales 2010'] - customer_behavior['Sales 2009']) /\n",
        "                                         customer_behavior['Sales 2009'].replace(0, np.nan)) * 100\n",
        "\n",
        "# Replace infinite values with NaN (happens when dividing by zero)\n",
        "customer_behavior.replace([np.inf, -np.inf], np.nan, inplace=True)\n",
        "\n",
        "# Define purchase trend segments\n",
        "def purchase_trend(row):\n",
        "    # Check if customer made purchases in all years\n",
        "    active_all_years = (row['Sales 2008'] > 0) & (row['Sales 2009'] > 0) & (row['Sales 2010'] > 0)\n",
        "\n",
        "    # Determine growth pattern\n",
        "    if active_all_years:\n",
        "        if (row['Growth_2008_2009'] > 10) & (row['Growth_2009_2010'] > 10):\n",
        "            return 'Consistently Growing'\n",
        "        elif (row['Growth_2008_2009'] < -10) & (row['Growth_2009_2010'] < -10):\n",
        "            return 'Consistently Declining'\n",
        "        elif (row['Growth_2008_2009'] > 10) & (row['Growth_2009_2010'] < -10):\n",
        "            return 'Growth then Decline'\n",
        "        elif (row['Growth_2008_2009'] < -10) & (row['Growth_2009_2010'] > 10):\n",
        "            return 'Decline then Growth'\n",
        "        else:\n",
        "            return 'Stable'\n",
        "    elif (row['Sales 2008'] == 0) & (row['Sales 2009'] > 0) & (row['Sales 2010'] > 0):\n",
        "        return 'New in 2009'\n",
        "    elif (row['Sales 2008'] == 0) & (row['Sales 2009'] == 0) & (row['Sales 2010'] > 0):\n",
        "        return 'New in 2010'\n",
        "    elif (row['Sales 2008'] > 0) & (row['Sales 2009'] > 0) & (row['Sales 2010'] == 0):\n",
        "        return 'Churned in 2010'\n",
        "    elif (row['Sales 2008'] > 0) & (row['Sales 2009'] == 0) & (row['Sales 2010'] == 0):\n",
        "        return 'Churned in 2009'\n",
        "    elif (row['Sales 2008'] > 0) & (row['Sales 2009'] == 0) & (row['Sales 2010'] > 0):\n",
        "        return 'Reactivated in 2010'\n",
        "    else:\n",
        "        return 'Inconsistent'\n",
        "\n",
        "customer_behavior['Purchase_Trend'] = customer_behavior.apply(purchase_trend, axis=1)\n",
        "\n",
        "# Identify purchase channels\n",
        "# Create binary flags for each channel\n",
        "customer_behavior['Uses_Email'] = df.groupby('Customer ID')['Email Sales'].sum() > 0\n",
        "customer_behavior['Uses_Newsletter'] = df.groupby('Customer ID')['Newsletter Sales'].sum() > 0\n",
        "customer_behavior['Uses_Tasting_Room'] = df.groupby('Customer ID')['Tasting Room Sales'].sum() > 0\n",
        "customer_behavior['Uses_Winemaker_Call'] = df.groupby('Customer ID')['Winemaker Call Sales'].sum() > 0\n",
        "\n",
        "# Determine dominant channel\n",
        "channels = ['Email Sales', 'Newsletter Sales', 'Tasting Room Sales', 'Winemaker Call Sales']\n",
        "channel_sums = df.groupby('Customer ID')[channels].sum()\n",
        "\n",
        "# Get the column name of the maximum sales channel for each customer\n",
        "customer_behavior['Dominant_Channel'] = channel_sums.idxmax(axis=1).apply(lambda x: x.replace(' Sales', ''))\n",
        "\n",
        "# Display purchase trend distribution\n",
        "trend_counts = customer_behavior['Purchase_Trend'].value_counts()\n",
        "print(trend_counts)\n",
        "\n",
        "# Display dominant channel distribution\n",
        "channel_counts = customer_behavior['Dominant_Channel'].value_counts()\n",
        "print(channel_counts)\n",
        "\n",
        "# Export purchase behavior analysis\n",
        "customer_behavior.to_csv('winery_purchase_behavior.csv')"
      ],
      "metadata": {
        "id": "OqUVGT1bEhXD",
        "outputId": "a07ffdb2-8a3b-4ea1-e8e7-e678c48219ce",
        "colab": {
          "base_uri": "https://localhost:8080/"
        }
      },
      "execution_count": 5,
      "outputs": [
        {
          "output_type": "stream",
          "name": "stdout",
          "text": [
            "Purchase_Trend\n",
            "Inconsistent              7508\n",
            "Churned in 2010           6734\n",
            "New in 2009               3335\n",
            "New in 2010               1367\n",
            "Churned in 2009            771\n",
            "Growth then Decline        698\n",
            "Consistently Declining     529\n",
            "Decline then Growth        502\n",
            "Stable                     345\n",
            "Reactivated in 2010        211\n",
            "Consistently Growing       186\n",
            "Name: count, dtype: int64\n",
            "Dominant_Channel\n",
            "Tasting Room      18868\n",
            "Email              1623\n",
            "Newsletter         1606\n",
            "Winemaker Call       89\n",
            "Name: count, dtype: int64\n"
          ]
        }
      ]
    },
    {
      "cell_type": "markdown",
      "source": [
        "# RFM Analysis"
      ],
      "metadata": {
        "id": "strJWJuac3u4"
      }
    },
    {
      "cell_type": "code",
      "source": [
        "# Convert date to datetime format - fix the format to match your data\n",
        "df['Date'] = pd.to_datetime(df['Date'], format='%d-%b-%y', errors='coerce')\n",
        "\n",
        "# Calculate RFM metrics\n",
        "# Get the most recent date in the dataset\n",
        "max_date = df['Date'].max()\n",
        "\n",
        "# Group by customer\n",
        "rfm = df.groupby('Customer ID').agg({\n",
        "    'Date': lambda x: (max_date - x.max()).days,  # Recency\n",
        "    'Order ID': 'count',  # Frequency\n",
        "    'Sale Amount': 'sum'  # Monetary\n",
        "})\n",
        "\n",
        "# Rename columns\n",
        "rfm.columns = ['Recency', 'Frequency', 'Monetary']\n",
        "\n",
        "# Fix for duplicate bin edges - use qcut with duplicates='drop'\n",
        "# Also handle case where we might have too many identical values\n",
        "try:\n",
        "    rfm['R_Quartile'] = pd.qcut(rfm['Recency'], 4, labels=[4, 3, 2, 1], duplicates='drop')\n",
        "except ValueError:\n",
        "    # If too many identical values, use rank method instead\n",
        "    rfm['R_Quartile'] = pd.cut(rfm['Recency'].rank(method='first'),\n",
        "                              bins=4, labels=[4, 3, 2, 1])\n",
        "\n",
        "try:\n",
        "    rfm['F_Quartile'] = pd.qcut(rfm['Frequency'], 4, labels=[1, 2, 3, 4], duplicates='drop')\n",
        "except ValueError:\n",
        "    # If too many identical values, use rank method instead\n",
        "    rfm['F_Quartile'] = pd.cut(rfm['Frequency'].rank(method='first'),\n",
        "                              bins=4, labels=[1, 2, 3, 4])\n",
        "\n",
        "try:\n",
        "    rfm['M_Quartile'] = pd.qcut(rfm['Monetary'], 4, labels=[1, 2, 3, 4], duplicates='drop')\n",
        "except ValueError:\n",
        "    # If too many identical values, use rank method instead\n",
        "    rfm['M_Quartile'] = pd.cut(rfm['Monetary'].rank(method='first'),\n",
        "                              bins=4, labels=[1, 2, 3, 4])\n",
        "\n",
        "# Calculate RFM Score\n",
        "rfm['RFM_Score'] = rfm['R_Quartile'].astype(str) + rfm['F_Quartile'].astype(str) + rfm['M_Quartile'].astype(str)\n",
        "\n",
        "# Create RFM Segments\n",
        "def rfm_segment(rfm_score):\n",
        "    if rfm_score in ['444', '443', '434', '344']:\n",
        "        return 'Champions'\n",
        "    elif rfm_score in ['442', '432', '342', '332', '341', '431']:\n",
        "        return 'Loyal Customers'\n",
        "    elif rfm_score in ['433', '343', '333', '323', '422']:\n",
        "        return 'Potential Loyalists'\n",
        "    elif rfm_score in ['334', '324', '234', '233', '232', '231', '224', '223', '222']:\n",
        "        return 'New Customers'\n",
        "    elif rfm_score in ['413', '414', '313', '314', '423', '424']:\n",
        "        return 'Promising'\n",
        "    elif rfm_score in ['331', '321', '312', '311', '221', '212']:\n",
        "        return 'Need Attention'\n",
        "    elif rfm_score in ['134', '133', '132', '124', '123', '122', '121']:\n",
        "        return 'About to Sleep'\n",
        "    elif rfm_score in ['144', '143', '142', '141', '241', '251', '252', '253']:\n",
        "        return 'At Risk'\n",
        "    elif rfm_score in ['114', '113', '112', '111', '213', '212', '211']:\n",
        "        return 'Cannot Lose Them'\n",
        "    else:\n",
        "        return 'Hibernating'\n",
        "\n",
        "rfm['RFM_Segment'] = rfm['RFM_Score'].apply(rfm_segment)\n",
        "\n",
        "# Display segment distribution\n",
        "segment_counts = rfm['RFM_Segment'].value_counts()\n",
        "print(segment_counts)\n",
        "\n",
        "# Export the RFM segments\n",
        "rfm.to_csv('winery_rfm_segments.csv')"
      ],
      "metadata": {
        "id": "-sO_J7QrF2g-",
        "outputId": "b017662a-a7cf-4a33-f224-e2160e221824",
        "colab": {
          "base_uri": "https://localhost:8080/"
        }
      },
      "execution_count": 6,
      "outputs": [
        {
          "output_type": "stream",
          "name": "stdout",
          "text": [
            "RFM_Segment\n",
            "Champions              3474\n",
            "Need Attention         3207\n",
            "Cannot Lose Them       2704\n",
            "Hibernating            2599\n",
            "About to Sleep         2569\n",
            "Potential Loyalists    2320\n",
            "New Customers          1993\n",
            "Loyal Customers        1474\n",
            "Promising              1346\n",
            "At Risk                 500\n",
            "Name: count, dtype: int64\n"
          ]
        }
      ]
    }
  ],
  "metadata": {
    "colab": {
      "provenance": []
    },
    "kernelspec": {
      "display_name": "Python 3",
      "name": "python3"
    }
  },
  "nbformat": 4,
  "nbformat_minor": 0
}